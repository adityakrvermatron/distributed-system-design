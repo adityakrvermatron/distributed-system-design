{
 "cells": [
  {
   "cell_type": "markdown",
   "id": "f490e2af-7bb3-4c66-94b8-81e59f8bd065",
   "metadata": {},
   "source": [
    "# Designing Distributed Logging System\n",
    "\n",
    "One of the most challenging aspects of debugging distributed systems is understanding system behavior in the period leading up to a bug.\n",
    "As we all know by now, a distributed system is made up of microservices calling each other to complete an operation.\n",
    "Multiple services can talk to each other to complete a single business requirement.\n",
    "\n",
    "In this architecture, logs are accumulated in each machine running the microservice. A single microservice can also be deployed to hundreds of nodes. In an archirectural setup where multiple microservices are interdependent, and failure of one service can result in failures of other services. If we do not have well organized logging, we might not be able to determine the root cause of failure."
   ]
  },
  {
   "cell_type": "markdown",
   "id": "24dfcd83-0590-4e59-96ce-80f049fe9771",
   "metadata": {},
   "source": [
    "## Understanding the system\n",
    "### Restrain Log Size\n",
    "At any given time, the distributed system logs hundreds of concurrent messages. \n",
    "The number of logs increases over time. But, not all logs are important enough to be logged.\n",
    "To solve this, logs have to be structured. We need to decide what to log into the system on the application or logging level.\n",
    "\n",
    "### Log sampling\n",
    "Storage and processing resources is a constraint. We must determine which messages we should log into the system so as to control volume of logs generated.\n",
    "\n",
    "High-throughput systems will emit lots of messages from the same set of events. Instead of logging all the messages, we can use a sampler service that only logs a smaller set of messages from a larger chunk. The sampler service can use various sampling algorithms such as adaptive and priority sampling to log events. For large systems with thousands of microservices and billions of events per seconds, an appropriate \n",
    "\n",
    "### Structured logging\n",
    "The first benefit of structured logs is better interoperability between log readers and writers.\n",
    "Use structured logging to make the job of log processing system easier. \n",
    "\n",
    "### Categorization\n",
    "The following severity levels are commonly used in logging:\n",
    "- `DEBUG`\n",
    "- `INFO`\n",
    "- `WARNING`\n",
    "- `ERROR`\n",
    "- `CRITICAL`"
   ]
  },
  {
   "cell_type": "markdown",
   "id": "8cb6105b-a01d-450e-a11c-1544ee40deb2",
   "metadata": {},
   "source": [
    "## Requirements\n",
    "### Functional requirements\n",
    "- Writing logs: the microservices should be able to write into the logging system.\n",
    "- Query-based logs: It should be effortless to search for logs.\n",
    "- The logs should reside in distributed storage for easy access.\n",
    "- The logging mechanism should be secure and not vulnerable. Access to logs should be for authenticated users and necessary read-only permissions granted to everyone.\n",
    "- The system should avoid logging sensitive information like credit cards numbers, passwords, and so on.\n",
    "- Since logging is a I/O-heavy operation, the system should avoid logging excessive information. Logging all information is unnecessary. It only takes up more space and impacts performance.\n",
    "- Avoid logging personally identifiable information (PII) such as names, addresses, emails, etc.\n",
    "\n",
    "\n",
    "### Non-functional requirements\n",
    "- **Low latency:** logging is a resource-intensive operation that's significantly slower than CPU operations. To ensure low latency, the logging system should be designed so that logging does not block or delay a service's main application process.\n",
    "- **Scalability:** Our logging system must be scalable. It should efficiently handle increasing log volumes over time and support a growing number of concurrent users.\n",
    "- **Availability:** The logging system should be highly available to ensure data is consistently logged without interruption."
   ]
  },
  {
   "cell_type": "markdown",
   "id": "341f2edc-95d0-4eeb-98f0-821a773a3617",
   "metadata": {},
   "source": [
    "## Components to use\n",
    "We will use the following components:\n",
    "- **Pub-Sub system:** we will use a publish-subscribe system to efficiently handle the large volume of logs.\n",
    "- **Distributed Search:** we will employ distributed search to query logs efficiently.\n",
    "\n",
    ">A distributed search system is a search architecture that efficiently handles large dataset and high query loads by spreading search operations across multiple servers or nodes. It has the following components:\n",
    ">1. **Crawler:** This component fetches the content and creates documents.\n",
    ">2. **Indexer:** Builds a searchable index from the fetched documents.\n",
    ">3. **Searcher:** Responds to user queries by running searches on the index created by the indexer.\n",
    "\n",
    "- **Logging Accumulator:** This component will collect logs from each node and store them in a central location, allowing for easy retrieval of logs related to specific events without needing to query each individual node.\n",
    "- **Blob Storage:** The blob storage provides a scalable and reliable storage for large volumes of data.\n",
    "- **Log Indexer:** Due to the increasing number of log files, efficient searching is crucial. The log indexer utilizes distributed search techniques to index and make logs searchable, ensuring fast retrieval of relevant information.\n",
    "- **Visualizer:** The visualizer component provides a unified view of all logs. It enables users to analyze and monitor system behavior and performance through visual representation and analytics.\n"
   ]
  },
  {
   "cell_type": "markdown",
   "id": "e34cb42e-89fe-483d-91d8-b7899e552932",
   "metadata": {},
   "source": [
    "## API Design\n",
    "We design for reads and writes\n",
    "\n",
    "\n",
    "Read\n",
    "```python\n",
    "searching(keyword)\n",
    "```\n",
    "This API call returns a list of logs that contain the keyword.\n",
    "\n",
    "Write\n",
    "```python\n",
    "write_logs(unique_ID, message)\n",
    "```\n",
    "This API call writes the log message against against a unique key.\n"
   ]
  },
  {
   "cell_type": "markdown",
   "id": "14d6a78d-6560-47e2-b963-bced4fdedb40",
   "metadata": {},
   "source": [
    "## High Level System Design\n",
    "\n",
    "![](images/distributed_logging_design.png)"
   ]
  },
  {
   "cell_type": "code",
   "execution_count": null,
   "id": "558b4936-f381-4e18-9379-5888b977d27c",
   "metadata": {},
   "outputs": [],
   "source": []
  }
 ],
 "metadata": {
  "kernelspec": {
   "display_name": "Python 3 (ipykernel)",
   "language": "python",
   "name": "python3"
  },
  "language_info": {
   "codemirror_mode": {
    "name": "ipython",
    "version": 3
   },
   "file_extension": ".py",
   "mimetype": "text/x-python",
   "name": "python",
   "nbconvert_exporter": "python",
   "pygments_lexer": "ipython3",
   "version": "3.11.7"
  }
 },
 "nbformat": 4,
 "nbformat_minor": 5
}
