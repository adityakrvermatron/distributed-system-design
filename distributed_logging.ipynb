{
 "cells": [
  {
   "cell_type": "markdown",
   "id": "f490e2af-7bb3-4c66-94b8-81e59f8bd065",
   "metadata": {},
   "source": [
    "# Designing Distributed Logging System\n",
    "\n",
    "One of the most challenging aspects of debugging distributed systems is understanding system behavior in the period leading up to a bug.\n",
    "As we all know by now, a distributed system is made up of microservices calling each other to complete an operation.\n",
    "Multiple services can talk to each other to complete a single business requirement.\n",
    "\n",
    "In this architecture, logs are accumulated in each machine running the microservice. A single microservice can also be deployed to hundreds of nodes. In an archirectural setup where multiple microservices are interdependent, and failure of one service can result in failures of other services. If we do not have well organized logging, we might not be able to determine the root cause of failure."
   ]
  },
  {
   "cell_type": "markdown",
   "id": "24dfcd83-0590-4e59-96ce-80f049fe9771",
   "metadata": {},
   "source": [
    "## Restrain Log Size\n",
    "At any given time, the distributed system logs hundreds of concurrent messages. \n",
    "The number of logs increases over time. But, not all logs are important enough to be logged.\n",
    "To solve this, logs have to be structured. We need to decide what to log into the system on the application or logging level.\n",
    "\n",
    "## Functional requirements\n",
    "- The logging mechanism should be secure and not vulnerable. Access to logs should be for authenticated users and necessary read-only permissions granted to everyone.\n",
    "- The system should avoid logging sensitive information like credit cards numbers, passwords, and so on.\n",
    "- Since logging is a I/O-heavy operation, the system should avoid logging excessive information. Logging all information is unnecessary. It only takes up more space and impacts performance.\n",
    "- Avoid logging personally identifiable information (PII) such as names, addresses, emails, etc.\n",
    "\n",
    "### Log sampling\n",
    "Storage and processing resources is a constraint. We must determine which messages we should log into the system so as to control volume of logs generated.\n",
    "\n",
    "High-throughput systems will emit lots of messages from the same set of events. Instead of logging all the messages, we can use a sampler service that only logs a smaller set of messages from a larger chunk. The sampler service can use various sampling algorithms such as adaptive and priority sampling to log events. For large systems with thousands of microservices and billions of events per seconds, an appropriate \n",
    "\n",
    "### Structured logging\n",
    "The first benefit of structured logs is better interoperability between log readers and writers.\n",
    "Use structured logging to make the job of log processing system easier. \n",
    "\n",
    "### Categorization\n",
    "The following severity levels are commonly used in logging:\n",
    "- `DEBUG`\n",
    "- `INFO`\n",
    "- `WARNING`\n",
    "- `ERROR`\n",
    "- `CRITICAL`\n",
    "\n"
   ]
  },
  {
   "cell_type": "code",
   "execution_count": null,
   "id": "08f9bc00-8593-4905-a182-01dd6318aeb0",
   "metadata": {},
   "outputs": [],
   "source": []
  }
 ],
 "metadata": {
  "kernelspec": {
   "display_name": "Python 3 (ipykernel)",
   "language": "python",
   "name": "python3"
  },
  "language_info": {
   "codemirror_mode": {
    "name": "ipython",
    "version": 3
   },
   "file_extension": ".py",
   "mimetype": "text/x-python",
   "name": "python",
   "nbconvert_exporter": "python",
   "pygments_lexer": "ipython3",
   "version": "3.11.7"
  }
 },
 "nbformat": 4,
 "nbformat_minor": 5
}
